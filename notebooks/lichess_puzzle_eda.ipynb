{
 "cells": [
  {
   "cell_type": "code",
   "execution_count": null,
   "metadata": {},
   "outputs": [],
   "source": [
    "from datasets import load_dataset"
   ]
  },
  {
   "cell_type": "code",
   "execution_count": null,
   "metadata": {},
   "outputs": [],
   "source": [
    "#dataset = load_dataset('Simon-Kotchou/lichess-puzzles')\n",
    "#dataset"
   ]
  },
  {
   "cell_type": "code",
   "execution_count": null,
   "metadata": {},
   "outputs": [],
   "source": [
    "from datasets import Dataset, Features, ClassLabel, Sequence, Value\n",
    "import requests\n",
    "import zstandard as zstd\n",
    "import chess.pgn\n",
    "import io\n",
    "\n",
    "# Function to read URLs from a text file\n",
    "def read_urls_from_file(file_path):\n",
    "    with open(file_path, 'r') as file:\n",
    "        urls = [line.strip() for line in file if line.strip()]\n",
    "    return urls\n",
    "\n",
    "def pgn_data_generator(urls):\n",
    "    dctx = zstd.ZstdDecompressor()\n",
    "    for url in urls:\n",
    "        with requests.get(url, stream=True) as response:\n",
    "            response.raise_for_status()\n",
    "            with dctx.stream_reader(response.raw) as reader:\n",
    "                text_stream = io.TextIOWrapper(reader, encoding='utf-8')\n",
    "                pgn_file = io.StringIO(''.join(text_stream))\n",
    "                while True:\n",
    "                    game = chess.pgn.read_game(pgn_file)\n",
    "                    if game is None:\n",
    "                        break\n",
    "                    game_info = {}\n",
    "                    # Providing default values for missing fields\n",
    "                    for key in ['Event', 'Site', 'Date', 'Round', 'White', 'Black', 'Result', 'UTCDate', 'UTCTime']:\n",
    "                        game_info[key] = game.headers.get(key, 'Unknown')\n",
    "                    game_info[\"Moves\"] = game.board().variation_san(game.mainline_moves())\n",
    "                    yield game_info\n",
    "\n",
    "# Function to create a Hugging Face dataset from the generator\n",
    "def create_pgn_dataset(file_path):\n",
    "    urls = [read_urls_from_file(file_path)[5]]\n",
    "    \n",
    "    # Define the dataset features\n",
    "    features = Features({\n",
    "        'Event': Value('string'),\n",
    "        'Site': Value('string'),\n",
    "        'Date': Value('string'),\n",
    "        'Round': Value('string'),\n",
    "        'White': Value('string'),\n",
    "        'Black': Value('string'),\n",
    "        'Result': Value('string'),\n",
    "        'Moves': Value('string'),\n",
    "        'UTCDate': Value('string'),\n",
    "        'UTCTime': Value('string')\n",
    "    })\n",
    "\n",
    "    # Create the dataset from the generator\n",
    "    return Dataset.from_generator(generator=lambda: pgn_data_generator(urls), features=features)"
   ]
  },
  {
   "cell_type": "code",
   "execution_count": null,
   "metadata": {},
   "outputs": [],
   "source": [
    "# File path to the text file containing URLs\n",
    "file_path = '../data/960_urls.txt'  # Update this path as necessary\n",
    "\n",
    "# Create the dataset\n",
    "dataset = create_pgn_dataset(file_path)\n",
    "\n",
    "# Example: Accessing the first item in the dataset\n",
    "first_item = dataset[0]\n",
    "print(first_item)"
   ]
  },
  {
   "cell_type": "code",
   "execution_count": null,
   "metadata": {},
   "outputs": [],
   "source": [
    "dataset.push_to_hub('Simon-Kotchou/Lichess-960', split='part_202309')"
   ]
  }
 ],
 "metadata": {
  "kernelspec": {
   "display_name": "default_tf",
   "language": "python",
   "name": "python3"
  },
  "language_info": {
   "codemirror_mode": {
    "name": "ipython",
    "version": 3
   },
   "file_extension": ".py",
   "mimetype": "text/x-python",
   "name": "python",
   "nbconvert_exporter": "python",
   "pygments_lexer": "ipython3",
   "version": "3.11.8"
  }
 },
 "nbformat": 4,
 "nbformat_minor": 2
}
